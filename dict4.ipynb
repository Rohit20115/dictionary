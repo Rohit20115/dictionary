{
 "cells": [
  {
   "cell_type": "code",
   "execution_count": 1,
   "id": "23026c99",
   "metadata": {},
   "outputs": [
    {
     "name": "stdout",
     "output_type": "stream",
     "text": [
      "{'name': 'Rohit', 'salary': 8000}\n"
     ]
    }
   ],
   "source": [
    "#creat a dictionary by extracting the keys from a given dictionay.\n",
    "\n",
    "sample_dict = {\n",
    "        \"name\":\"Rohit\",\n",
    "        \"age\":20,\n",
    "        \"salary\":8000,\n",
    "        \"city\":\"satna\"}\n",
    "\n",
    "keys =[\"name\",\"salary\"]\n",
    "\n",
    "result = dict()\n",
    "\n",
    "for k in keys:\n",
    "    result.update({k:sample_dict[k]})\n",
    "    \n",
    "print(result)\n"
   ]
  },
  {
   "cell_type": "code",
   "execution_count": null,
   "id": "16c5aa8c",
   "metadata": {},
   "outputs": [],
   "source": []
  }
 ],
 "metadata": {
  "kernelspec": {
   "display_name": "Python 3 (ipykernel)",
   "language": "python",
   "name": "python3"
  },
  "language_info": {
   "codemirror_mode": {
    "name": "ipython",
    "version": 3
   },
   "file_extension": ".py",
   "mimetype": "text/x-python",
   "name": "python",
   "nbconvert_exporter": "python",
   "pygments_lexer": "ipython3",
   "version": "3.11.4"
  }
 },
 "nbformat": 4,
 "nbformat_minor": 5
}
